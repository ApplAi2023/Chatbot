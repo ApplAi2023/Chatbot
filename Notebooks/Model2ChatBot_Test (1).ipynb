{
  "nbformat": 4,
  "nbformat_minor": 0,
  "metadata": {
    "colab": {
      "provenance": []
    },
    "kernelspec": {
      "name": "python3",
      "display_name": "Python 3"
    },
    "language_info": {
      "name": "python"
    }
  },
  "cells": [
    {
      "cell_type": "code",
      "source": [
        "#!pip install -q gradio"
      ],
      "metadata": {
        "id": "jW_QV_GahCgs"
      },
      "execution_count": 1,
      "outputs": []
    },
    {
      "cell_type": "code",
      "source": [],
      "metadata": {
        "id": "3gxGKlpwhFnX"
      },
      "execution_count": 1,
      "outputs": []
    },
    {
      "cell_type": "code",
      "execution_count": 2,
      "metadata": {
        "id": "o-uGEVxCfJ01"
      },
      "outputs": [],
      "source": [
        "import json \n",
        "import numpy as np\n",
        "from tensorflow import keras\n",
        "from sklearn.preprocessing import LabelEncoder\n",
        "from tensorflow.keras.models import load_model\n",
        "from textblob import TextBlob\n",
        "\n",
        "#import colorama \n",
        "#colorama.init()\n",
        "#from colorama import Fore, Style, Back\n",
        "\n",
        "import random\n",
        "import pickle\n",
        "\n",
        "with open(\"/content/drive/MyDrive/applai_dataa.json\") as file:\n",
        "    data = json.load(file)\n",
        "model = load_model('applai_chatbot_model.h5')\n",
        "with open('tokenizer.pickle', 'rb') as handle:\n",
        "    tokenizer = pickle.load(handle)\n",
        "with open('label_encoder.pickle', 'rb') as enc:\n",
        "    lbl_encoder = pickle.load(enc)    \n",
        "max_len = 20\n",
        "def predict(inp):\n",
        "    inp_list=list(inp.split(\" \"))\n",
        "    inp_list2=[str(TextBlob(word).correct()) for word in inp_list]\n",
        "    inp2=' '.join(inp_list2)\n",
        "\n",
        "\n",
        "    print(inp2)\n",
        "    result = model.predict(keras.preprocessing.sequence.pad_sequences(tokenizer.texts_to_sequences([inp2]),\n",
        "                                                truncating='post', maxlen=max_len))\n",
        "    tag = lbl_encoder.inverse_transform([np.argmax(result)])\n",
        "\n",
        "    for i in data['applai']:\n",
        "      if i['tag'] == tag:\n",
        "        return  np.random.choice(i['responses'])\n"
      ]
    },
    {
      "cell_type": "code",
      "source": [
        "predict('What is departements in applai')"
      ],
      "metadata": {
        "colab": {
          "base_uri": "https://localhost:8080/",
          "height": 88
        },
        "id": "5j4jw0Z0hXWr",
        "outputId": "a3c62336-886e-430c-daad-d90045d4d079"
      },
      "execution_count": 3,
      "outputs": [
        {
          "output_type": "stream",
          "name": "stdout",
          "text": [
            "That is departments in appear\n",
            "1/1 [==============================] - 0s 302ms/step\n"
          ]
        },
        {
          "output_type": "execute_result",
          "data": {
            "text/plain": [
              "'We have two trainings , winter and summer training the first training which is in winter has small capacity but the second one in the summer has bigger capacity'"
            ],
            "application/vnd.google.colaboratory.intrinsic+json": {
              "type": "string"
            }
          },
          "metadata": {},
          "execution_count": 3
        }
      ]
    },
    {
      "cell_type": "code",
      "source": [
        "from google.colab import drive\n",
        "drive.mount('/content/drive')"
      ],
      "metadata": {
        "colab": {
          "base_uri": "https://localhost:8080/"
        },
        "id": "LEjC_9P_OnRo",
        "outputId": "19edf7fa-5b2c-4207-d1a8-783cfd332c11"
      },
      "execution_count": 4,
      "outputs": [
        {
          "output_type": "stream",
          "name": "stdout",
          "text": [
            "Drive already mounted at /content/drive; to attempt to forcibly remount, call drive.mount(\"/content/drive\", force_remount=True).\n"
          ]
        }
      ]
    },
    {
      "cell_type": "code",
      "source": [
        "import gradio as gr\n",
        "import base64\n",
        "\n",
        "\n",
        "def chatbot(input, history=[]):\n",
        "    \n",
        "    response = predict(input)\n",
        "  \n",
        "    #output = openai_chat(input)\n",
        "    history.append((input, response))\n",
        "    return history, history\n",
        "add_image = \"body {background-image: 'ApplAiOnly_Logo.png';}\"\n",
        "#with gr.Blocks(css=\".gradio-container {background-image: url('file=clouds.jpg')}\") as demo:\n",
        "#css=\".gradio-container {background-image: url('file=ApplAiOnly_Logo.png')}\"\n",
        "interface=gr.Interface(fn = chatbot,title=\"Welcome To ApplAI ChatBot\"\n",
        ",\n",
        "             inputs = [\"text\",'state'],\n",
        "             outputs = [\"chatbot\",'state'])\n",
        "# Customize the CSS to add a logo\n",
        "\n",
        "interface.launch()\n"
      ],
      "metadata": {
        "colab": {
          "base_uri": "https://localhost:8080/",
          "height": 616
        },
        "id": "QDIJf9ggfXli",
        "outputId": "7247b746-2608-4060-c2fc-35875357279e"
      },
      "execution_count": 5,
      "outputs": [
        {
          "output_type": "stream",
          "name": "stdout",
          "text": [
            "Colab notebook detected. To show errors in colab notebook, set debug=True in launch()\n",
            "Note: opening Chrome Inspector may crash demo inside Colab notebooks.\n",
            "\n",
            "To create a public link, set `share=True` in `launch()`.\n"
          ]
        },
        {
          "output_type": "display_data",
          "data": {
            "text/plain": [
              "<IPython.core.display.Javascript object>"
            ],
            "application/javascript": [
              "(async (port, path, width, height, cache, element) => {\n",
              "                        if (!google.colab.kernel.accessAllowed && !cache) {\n",
              "                            return;\n",
              "                        }\n",
              "                        element.appendChild(document.createTextNode(''));\n",
              "                        const url = await google.colab.kernel.proxyPort(port, {cache});\n",
              "\n",
              "                        const external_link = document.createElement('div');\n",
              "                        external_link.innerHTML = `\n",
              "                            <div style=\"font-family: monospace; margin-bottom: 0.5rem\">\n",
              "                                Running on <a href=${new URL(path, url).toString()} target=\"_blank\">\n",
              "                                    https://localhost:${port}${path}\n",
              "                                </a>\n",
              "                            </div>\n",
              "                        `;\n",
              "                        element.appendChild(external_link);\n",
              "\n",
              "                        const iframe = document.createElement('iframe');\n",
              "                        iframe.src = new URL(path, url).toString();\n",
              "                        iframe.height = height;\n",
              "                        iframe.allow = \"autoplay; camera; microphone; clipboard-read; clipboard-write;\"\n",
              "                        iframe.width = width;\n",
              "                        iframe.style.border = 0;\n",
              "                        element.appendChild(iframe);\n",
              "                    })(7860, \"/\", \"100%\", 500, false, window.element)"
            ]
          },
          "metadata": {}
        },
        {
          "output_type": "execute_result",
          "data": {
            "text/plain": []
          },
          "metadata": {},
          "execution_count": 5
        }
      ]
    },
    {
      "cell_type": "code",
      "source": [],
      "metadata": {
        "id": "KZd1hU0ZmUB3"
      },
      "execution_count": 5,
      "outputs": []
    },
    {
      "cell_type": "code",
      "source": [],
      "metadata": {
        "id": "GMrSHmin1ID3"
      },
      "execution_count": 5,
      "outputs": []
    },
    {
      "cell_type": "code",
      "source": [],
      "metadata": {
        "id": "TSI6zVZfm43P"
      },
      "execution_count": 5,
      "outputs": []
    },
    {
      "cell_type": "code",
      "source": [],
      "metadata": {
        "id": "knKh441b8KXk"
      },
      "execution_count": 5,
      "outputs": []
    },
    {
      "cell_type": "code",
      "source": [],
      "metadata": {
        "id": "CBUtzKOxmw3F"
      },
      "execution_count": 5,
      "outputs": []
    },
    {
      "cell_type": "code",
      "source": [],
      "metadata": {
        "id": "D9O7F9TRoOvW"
      },
      "execution_count": 5,
      "outputs": []
    },
    {
      "cell_type": "code",
      "source": [],
      "metadata": {
        "id": "onZwfa3RndAl"
      },
      "execution_count": 5,
      "outputs": []
    },
    {
      "cell_type": "code",
      "source": [],
      "metadata": {
        "id": "EXMH_zpouiAq"
      },
      "execution_count": 5,
      "outputs": []
    },
    {
      "cell_type": "code",
      "source": [],
      "metadata": {
        "id": "Vg8QJ-PBuO9T"
      },
      "execution_count": 5,
      "outputs": []
    },
    {
      "cell_type": "code",
      "source": [],
      "metadata": {
        "id": "_xpPTaretjIG"
      },
      "execution_count": 5,
      "outputs": []
    },
    {
      "cell_type": "code",
      "source": [],
      "metadata": {
        "id": "H-S0e_NQtRrw"
      },
      "execution_count": 5,
      "outputs": []
    },
    {
      "cell_type": "code",
      "source": [],
      "metadata": {
        "id": "Fs39KzKSty0R"
      },
      "execution_count": 5,
      "outputs": []
    },
    {
      "cell_type": "code",
      "source": [],
      "metadata": {
        "id": "RP53giFFn213"
      },
      "execution_count": 5,
      "outputs": []
    },
    {
      "cell_type": "code",
      "source": [],
      "metadata": {
        "id": "K_4B0XwBttXO"
      },
      "execution_count": 5,
      "outputs": []
    }
  ]
}